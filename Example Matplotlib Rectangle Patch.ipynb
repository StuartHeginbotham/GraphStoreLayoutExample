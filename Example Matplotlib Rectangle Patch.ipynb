{
 "cells": [
  {
   "cell_type": "code",
   "execution_count": 11,
   "metadata": {
    "collapsed": true
   },
   "outputs": [],
   "source": [
    "import numpy as np\n",
    "import pandas as pd\n",
    "import matplotlib.pyplot as plt\n",
    "import matplotlib.patches as patches\n",
    "%matplotlib inline\n"
   ]
  },
  {
   "cell_type": "code",
   "execution_count": null,
   "metadata": {
    "collapsed": true
   },
   "outputs": [],
   "source": []
  },
  {
   "cell_type": "markdown",
   "metadata": {},
   "source": [
    "### create geog of store defined in data frame from - | defined schematic, label actual aisle and others such as freezer, bakery etc.\n",
    "### create item to aisle map\n",
    "### match item to aisle and aggregate by aisle\n",
    "### append aggregate value to store geog for mapping"
   ]
  },
  {
   "cell_type": "code",
   "execution_count": null,
   "metadata": {
    "collapsed": true
   },
   "outputs": [],
   "source": [
    "# symbolic representation of store layout to drive creating of dataframe defining store geog\n",
    "'''\n",
    "[-     -], #0\n",
    "[-     -], #1\n",
    "[- | | -], #2\n",
    "#0 1 2 3\n",
    "or \n",
    "\n",
    "[*********] #wall\n",
    "[*  - - -*] # bakery, fishmarket, butchery\n",
    "[*-     -*], #0\n",
    "[*-     -*], #1\n",
    "[*- | | -*], #2\n",
    "[**TTTT*E*]\n",
    "# 0 1 2 3\n",
    "or\n",
    "\n",
    "[**TTT**E*] # till,till, till  entrance\n",
    "[*-     -*], #0\n",
    "[*-     -*], #1\n",
    "[*- | | -*], #2\n",
    "[*  - - -*] # bakery, fishmarket, butchery\n",
    "[*********]\n",
    "# 0 1 2 3\n",
    "\n",
    "\n",
    "'''\n",
    "\n",
    "#starting top right top to bottom, top to bottom\n",
    "'''\n",
    "from first store layout template\n",
    "\n",
    "(0,0)='aisle1'\n",
    "(0,1)='aisle2'\n",
    "(0,2)='aisle3'\n",
    "(1,0)=None\n",
    "(1,1)=None\n",
    "(1,2)='freezers1'\n",
    "(2,0)=None\n",
    "(2,1)=None\n",
    "(2,2)='aisle4'\n",
    "(3,0)='aisle5'\n",
    "(3,1)='aisle6'\n",
    "(3,2)='aisle7'\n",
    "\n",
    "'''\n",
    "\n",
    "#empty space has no meaning in the layout - it is just for convenience so we can use \n",
    "#   split to easy transfer to an array and should not be used for scaling visual version of layout\n"
   ]
  },
  {
   "cell_type": "code",
   "execution_count": null,
   "metadata": {
    "collapsed": true
   },
   "outputs": [],
   "source": [
    "#item to Asile to map (could require natural language and sku/barcode version)\n",
    "#could sample aisle and then use fuzzymatch / neural net to match - there will always be some data loss\n",
    "#  that should be reported on\n",
    "\n",
    "# first try fuzzy match on aisle list\n",
    "# then gather product sample barcode for each aisle and use the categories and descritpions\n",
    "#     to seed item allocation process\n",
    "\n",
    "'''\n",
    "aisle1=['groceries','cleaning','pet'] #input collected for ailse boards\n",
    "\n",
    "item_df=pd.DataFrame({'category_description':['cat1','cat1','cat2','cat2']\n",
    "                     ,'item_description':['desc1','desc2','desc3','desc4']\n",
    "                     ,'item_barcode':['barc1','barc2','barc3','barc4']})\n",
    "\n",
    "aislemap=item_df+item_df['aisle']\n",
    "'''\n"
   ]
  },
  {
   "cell_type": "code",
   "execution_count": null,
   "metadata": {
    "collapsed": true
   },
   "outputs": [],
   "source": [
    "#item to match to aisle and aggregate - report on data lost due to none matching\n",
    "\n",
    "#1) input item list possible with quantities and values (coudl be SKU/barcode quality descrition \n",
    "#      or human description\n",
    "\n",
    "#2) using aislemap add aisle to item list\n",
    "\n",
    "#3) aggregate item list by aisle together with any quantities and values supplied\n",
    "\n",
    "#4)join aggregate dataframe to store layout dataframe"
   ]
  },
  {
   "cell_type": "code",
   "execution_count": 12,
   "metadata": {},
   "outputs": [],
   "source": [
    "# test dataframe defining store layout\n",
    "# need to add centre of rectangle for annotation\n",
    "df=pd.DataFrame({'start_x':[0.1,0.1,0.1,0.3,0.4,0.5,0.5,0.5]\n",
    "                ,'start_y':[0.1,0.2,0.3,0.1,0.1,0.1,0.2,0.3]          \n",
    "                ,'height': [0.2,0.2,0.2,0.1,0.1,0.2,0.2,0.2]\n",
    "                ,'width':  [0.1,0.1,0.1,0.3,0.3,0.1,0.1,0.1]},\n",
    "                index=['aisle1','aisle2','aisle3','freezer1','aisle4','aisle5','aisle6','aisle7']\n",
    "              )"
   ]
  },
  {
   "cell_type": "code",
   "execution_count": 37,
   "metadata": {
    "collapsed": true
   },
   "outputs": [],
   "source": [
    "# test value for shading - from matching input list to aisle and aggregating any input values on aisle\n",
    "df['myValue']=[10,200,130,16,270,30,120,23]"
   ]
  },
  {
   "cell_type": "code",
   "execution_count": 47,
   "metadata": {},
   "outputs": [
    {
     "data": {
      "image/png": "[encoded data removed]",
      "text/plain": [
       "<matplotlib.figure.Figure at 0x7f3182aa00b8>"
      ]
     },
     "metadata": {},
     "output_type": "display_data"
    }
   ],
   "source": [
    "# visualisation of layout with aisles shaded by aggregate values\n",
    "fig=plt.figure()\n",
    "ax1 = fig.add_subplot(111,aspect='equal')\n",
    "\n",
    "cm = plt.cm.get_cmap('RdYlBu_r')\n",
    "\n",
    "for i in range(0,len(df)):\n",
    "    ax1.add_patch(patches.Rectangle((df['start_x'].iloc[i]\n",
    "                                     ,df['start_y'].iloc[i])\n",
    "                                    ,df['height'].iloc[i]\n",
    "                                    ,df['width'].iloc[i]\n",
    "                                    ,edgecolor='black'\n",
    "                                    ,facecolor=cm(df['myValue'].iloc[i])\n",
    "                                   ,label=df.iloc[i].name));\n",
    "    rot=0\n",
    "    if df['width'].iloc[i]>df['height'].iloc[i]: \n",
    "        rot=90  \n",
    "    ax1.annotate(df.iloc[i].name\n",
    "                , (df['start_x'].iloc[i] + df['height'].iloc[i]/2.0\n",
    "                , df['start_y'].iloc[i] + df['width'].iloc[i]/2.0)\n",
    "                , color='w'\n",
    "                , weight='bold'\n",
    "                , fontsize=10\n",
    "                , ha='center'\n",
    "                , va='center'\n",
    "                ,rotation=rot)\n",
    "    \n",
    "ax1.set_xlim((0, 10))\n",
    "ax1.set_ylim((0, 10))\n",
    "ax1.set_aspect('equal')\n",
    "#report on data loss due to none matching"
   ]
  }
 ],
 "metadata": {
  "kernelspec": {
   "display_name": "Python 3",
   "language": "python",
   "name": "python3"
  },
  "language_info": {
   "codemirror_mode": {
    "name": "ipython",
    "version": 3
   },
   "file_extension": ".py",
   "mimetype": "text/x-python",
   "name": "python",
   "nbconvert_exporter": "python",
   "pygments_lexer": "ipython3",
   "version": "3.6.3"
  }
 },
 "nbformat": 4,
 "nbformat_minor": 2
}

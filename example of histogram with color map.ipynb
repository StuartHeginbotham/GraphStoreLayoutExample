{
 "cells": [
  {
   "cell_type": "code",
   "execution_count": 4,
   "metadata": {
    "collapsed": true
   },
   "outputs": [],
   "source": [
    "import numpy as n\n",
    "import matplotlib.pyplot as plt\n",
    "%matplotlib inline"
   ]
  },
  {
   "cell_type": "code",
   "execution_count": 15,
   "metadata": {},
   "outputs": [
    {
     "name": "stdout",
     "output_type": "stream",
     "text": [
      "(0.19215686274509805, 0.21176470588235294, 0.5843137254901961, 1.0)\n",
      "(0.22291426374471357, 0.3086505190311418, 0.6319876970396002, 1.0)\n",
      "(0.25674740484429065, 0.41522491349480967, 0.6844290657439447, 1.0)\n",
      "(0.3103421760861207, 0.5061899269511726, 0.7304113802383699, 1.0)\n",
      "(0.38985005767012687, 0.6009227220299884, 0.7794694348327567, 1.0)\n",
      "(0.4718185313341022, 0.6919646289888504, 0.8269896193771625, 1.0)\n",
      "(0.5648596693579392, 0.76639753940792, 0.867589388696655, 1.0)\n",
      "(0.6494425221068817, 0.8340638216070739, 0.9044982698961936, 1.0)\n",
      "(0.7398692810457516, 0.8849673202614379, 0.9333333333333332, 1.0)\n",
      "(0.8295271049596309, 0.928950403690888, 0.9587081891580161, 1.0)\n",
      "(0.8975009611687812, 0.9603229527104958, 0.9374855824682815, 1.0)\n",
      "(0.9499423298731258, 0.9806228373702421, 0.8410611303344867, 1.0)\n",
      "(0.9999231064975009, 0.9976163014225298, 0.7454056132256824, 1.0)\n",
      "(0.9983852364475202, 0.9499423298731258, 0.673125720876586, 1.0)\n",
      "(0.9966935793925413, 0.8975009611687813, 0.5936178392925799, 1.0)\n",
      "(0.9951557093425606, 0.8322952710495966, 0.5213379469434835, 1.0)\n",
      "(0.9934640522875817, 0.7477124183006538, 0.44183006535947733, 1.0)\n",
      "(0.9886966551326414, 0.6573625528642832, 0.3688581314878894, 1.0)\n",
      "(0.9734717416378317, 0.5474048442906576, 0.3181084198385237, 1.0)\n",
      "(0.9596309111880047, 0.44744329104190694, 0.27197231833910035, 1.0)\n",
      "(0.9167243367935409, 0.3430219146482122, 0.22399077277970011, 1.0)\n",
      "(0.8676662821991542, 0.2398308342945021, 0.1766243752402922, 1.0)\n",
      "(0.8085351787773933, 0.15501730103806227, 0.1522491349480969, 1.0)\n",
      "(0.7239523260284506, 0.07381776239907728, 0.15055747789311805, 1.0)\n",
      "(0.6470588235294118, 0.0, 0.14901960784313725, 1.0)\n"
     ]
    },
    {
     "data": {
      "image/png": "[encoded data removed]",
      "text/plain": [
       "<matplotlib.figure.Figure at 0x7fbd387d1668>"
      ]
     },
     "metadata": {},
     "output_type": "display_data"
    }
   ],
   "source": [
    "data=[10,20,30,34,56,23,23]\n",
    "\n",
    "# This is  the colormap I'd like to use.\n",
    "cm = plt.cm.get_cmap('RdYlBu_r')\n",
    "\n",
    "# Plot histogram.\n",
    "n, bins, patches = plt.hist(data, 25, normed=1, color='green')\n",
    "#bin_centers = 0.5 * (bins[:-1] + bins[1:])\n",
    "\n",
    "# scale values to interval [0,1]\n",
    "col = bin_centers - min(bin_centers)\n",
    "col /= max(col)\n",
    "\n",
    "for c, p in zip(col, patches):\n",
    "    print(cm(c))\n",
    "    plt.setp(p, 'facecolor', cm(c))\n",
    "    \n"
   ]
  },
  {
   "cell_type": "code",
   "execution_count": null,
   "metadata": {
    "collapsed": true
   },
   "outputs": [],
   "source": []
  }
 ],
 "metadata": {
  "kernelspec": {
   "display_name": "Python 3",
   "language": "python",
   "name": "python3"
  },
  "language_info": {
   "codemirror_mode": {
    "name": "ipython",
    "version": 3
   },
   "file_extension": ".py",
   "mimetype": "text/x-python",
   "name": "python",
   "nbconvert_exporter": "python",
   "pygments_lexer": "ipython3",
   "version": "3.6.3"
  }
 },
 "nbformat": 4,
 "nbformat_minor": 2
}
